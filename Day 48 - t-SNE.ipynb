{
 "cells": [
  {
   "cell_type": "code",
   "execution_count": 2,
   "metadata": {},
   "outputs": [
    {
     "name": "stdout",
     "output_type": "stream",
     "text": [
      "Collecting bioinfokit\n",
      "  Downloading bioinfokit-1.0.5.tar.gz (76 kB)\n",
      "Requirement already satisfied: pandas in e:\\anaconda\\lib\\site-packages (from bioinfokit) (1.1.3)\n",
      "Requirement already satisfied: numpy in e:\\anaconda\\lib\\site-packages (from bioinfokit) (1.19.2)\n",
      "Requirement already satisfied: matplotlib in e:\\anaconda\\lib\\site-packages (from bioinfokit) (3.3.2)\n",
      "Requirement already satisfied: scipy in e:\\anaconda\\lib\\site-packages (from bioinfokit) (1.5.2)\n",
      "Requirement already satisfied: scikit-learn in e:\\anaconda\\lib\\site-packages (from bioinfokit) (0.23.2)\n",
      "Requirement already satisfied: seaborn in e:\\anaconda\\lib\\site-packages (from bioinfokit) (0.11.0)\n",
      "Collecting matplotlib_venn\n",
      "  Downloading matplotlib-venn-0.11.6.tar.gz (29 kB)\n",
      "Collecting tabulate\n",
      "  Downloading tabulate-0.8.7-py3-none-any.whl (24 kB)\n",
      "Requirement already satisfied: statsmodels in e:\\anaconda\\lib\\site-packages (from bioinfokit) (0.12.0)\n",
      "Collecting textwrap3\n",
      "  Downloading textwrap3-0.9.2-py2.py3-none-any.whl (12 kB)\n",
      "Collecting adjustText\n",
      "  Downloading adjustText-0.7.3.tar.gz (7.5 kB)\n",
      "Requirement already satisfied: pytz>=2017.2 in e:\\anaconda\\lib\\site-packages (from pandas->bioinfokit) (2020.1)\n",
      "Requirement already satisfied: python-dateutil>=2.7.3 in e:\\anaconda\\lib\\site-packages (from pandas->bioinfokit) (2.8.1)\n",
      "Requirement already satisfied: kiwisolver>=1.0.1 in e:\\anaconda\\lib\\site-packages (from matplotlib->bioinfokit) (1.3.0)\n",
      "Requirement already satisfied: pyparsing!=2.0.4,!=2.1.2,!=2.1.6,>=2.0.3 in e:\\anaconda\\lib\\site-packages (from matplotlib->bioinfokit) (2.4.7)\n",
      "Requirement already satisfied: cycler>=0.10 in e:\\anaconda\\lib\\site-packages (from matplotlib->bioinfokit) (0.10.0)\n",
      "Requirement already satisfied: certifi>=2020.06.20 in e:\\anaconda\\lib\\site-packages (from matplotlib->bioinfokit) (2020.6.20)\n",
      "Requirement already satisfied: pillow>=6.2.0 in e:\\anaconda\\lib\\site-packages (from matplotlib->bioinfokit) (8.0.1)\n",
      "Requirement already satisfied: joblib>=0.11 in e:\\anaconda\\lib\\site-packages (from scikit-learn->bioinfokit) (0.17.0)\n",
      "Requirement already satisfied: threadpoolctl>=2.0.0 in e:\\anaconda\\lib\\site-packages (from scikit-learn->bioinfokit) (2.1.0)\n",
      "Requirement already satisfied: patsy>=0.5 in e:\\anaconda\\lib\\site-packages (from statsmodels->bioinfokit) (0.5.1)\n",
      "Requirement already satisfied: six>=1.5 in e:\\anaconda\\lib\\site-packages (from python-dateutil>=2.7.3->pandas->bioinfokit) (1.15.0)\n",
      "Building wheels for collected packages: bioinfokit, matplotlib-venn, adjustText\n",
      "  Building wheel for bioinfokit (setup.py): started\n",
      "  Building wheel for bioinfokit (setup.py): finished with status 'done'\n",
      "  Created wheel for bioinfokit: filename=bioinfokit-1.0.5-py3-none-any.whl size=54242 sha256=a99cd01e16ed2a821a03b74046d215b750eabb6d62e49503927df2d47eeb630e\n",
      "  Stored in directory: c:\\users\\chandu\\appdata\\local\\pip\\cache\\wheels\\d6\\01\\ee\\1e400bd12ca4e93e6bb2022cc3db222a28e8535ab1b9b21303\n",
      "  Building wheel for matplotlib-venn (setup.py): started\n",
      "  Building wheel for matplotlib-venn (setup.py): finished with status 'done'\n",
      "  Created wheel for matplotlib-venn: filename=matplotlib_venn-0.11.6-py3-none-any.whl size=32067 sha256=ec3281743c02a5d4f27dd43338e0b92750c295b74b3bce21ffb92c6f2bb5fa01\n",
      "  Stored in directory: c:\\users\\chandu\\appdata\\local\\pip\\cache\\wheels\\82\\e4\\64\\dd790d424818bc2f59c11471a1eee5dc8cfcd3f8ee8c4812fa\n",
      "  Building wheel for adjustText (setup.py): started\n",
      "  Building wheel for adjustText (setup.py): finished with status 'done'\n",
      "  Created wheel for adjustText: filename=adjustText-0.7.3-py3-none-any.whl size=7103 sha256=0ecb6c80915187a1dd86810c527f4defcfaff5779e2ba8d060807c955d2f8d7c\n",
      "  Stored in directory: c:\\users\\chandu\\appdata\\local\\pip\\cache\\wheels\\06\\b2\\e0\\b239bd2c0ff89b98c4f0c86a63e7059f38a8dfaf6df2641c63\n",
      "Successfully built bioinfokit matplotlib-venn adjustText\n",
      "Installing collected packages: matplotlib-venn, tabulate, textwrap3, adjustText, bioinfokit\n",
      "Successfully installed adjustText-0.7.3 bioinfokit-1.0.5 matplotlib-venn-0.11.6 tabulate-0.8.7 textwrap3-0.9.2\n"
     ]
    }
   ],
   "source": [
    "!pip install bioinfokit"
   ]
  },
  {
   "cell_type": "code",
   "execution_count": 3,
   "metadata": {},
   "outputs": [],
   "source": [
    "from pandas import read_csv\n",
    "import pandas as pd\n",
    "\n",
    "from sklearn.manifold import TSNE\n",
    "from bioinfokit.visuz import cluster"
   ]
  },
  {
   "cell_type": "code",
   "execution_count": 5,
   "metadata": {},
   "outputs": [],
   "source": [
    "# load data\n",
    "filename = '/Users/CHANDU/Downloads/TSNE_data.csv'\n",
    "dataframe = pd.read_csv(filename)"
   ]
  },
  {
   "cell_type": "code",
   "execution_count": 6,
   "metadata": {},
   "outputs": [],
   "source": [
    "# Split-out validation dataset\n",
    "array = dataframe.values\n",
    "# separate array into input and output components\n",
    "X = array[:,1:]\n",
    "Y = array[:,0]"
   ]
  },
  {
   "cell_type": "code",
   "execution_count": 7,
   "metadata": {},
   "outputs": [],
   "source": [
    "#TSNE visualization\n",
    "from bioinfokit.visuz import cluster\n",
    "\n",
    "data_tsne = TSNE(n_components=2).fit_transform(X)\n",
    "cluster.tsneplot(score=data_tsne)"
   ]
  },
  {
   "cell_type": "code",
   "execution_count": 8,
   "metadata": {},
   "outputs": [],
   "source": [
    "# get a list of categories\n",
    "color_class = dataframe['diagnosis'].to_numpy()\n",
    "cluster.tsneplot(score=data_tsne, colorlist=color_class, legendpos='upper right',legendanchor=(1.15, 1))\n",
    "\n",
    "#Plot will be stored in the default directory"
   ]
  },
  {
   "cell_type": "code",
   "execution_count": 9,
   "metadata": {},
   "outputs": [
    {
     "data": {
      "text/plain": [
       "array([[-18.326853, -30.065283],\n",
       "       [-18.107737, -27.179916],\n",
       "       [-13.134129, -27.028984],\n",
       "       ...,\n",
       "       [  5.074838, -19.525267],\n",
       "       [-15.848947, -27.335068],\n",
       "       [-33.538136,  11.475817]], dtype=float32)"
      ]
     },
     "execution_count": 9,
     "metadata": {},
     "output_type": "execute_result"
    }
   ],
   "source": [
    "data_tsne"
   ]
  }
 ],
 "metadata": {
  "kernelspec": {
   "display_name": "Python 3",
   "language": "python",
   "name": "python3"
  },
  "language_info": {
   "codemirror_mode": {
    "name": "ipython",
    "version": 3
   },
   "file_extension": ".py",
   "mimetype": "text/x-python",
   "name": "python",
   "nbconvert_exporter": "python",
   "pygments_lexer": "ipython3",
   "version": "3.8.5"
  }
 },
 "nbformat": 4,
 "nbformat_minor": 4
}
